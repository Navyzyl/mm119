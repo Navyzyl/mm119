{
 "cells": [
  {
   "cell_type": "markdown",
   "id": "c31fa998",
   "metadata": {},
   "source": [
    "# Numpy"
   ]
  },
  {
   "cell_type": "code",
   "execution_count": 2,
   "id": "9330a616",
   "metadata": {},
   "outputs": [
    {
     "name": "stdout",
     "output_type": "stream",
     "text": [
      "<class 'numpy.ndarray'>\n",
      "[1 2 3 4]\n"
     ]
    }
   ],
   "source": [
    "import numpy as np\n",
    "list1=[1,2,3,4]\n",
    "oneArray=np.array(list1)\n",
    "print(type(oneArray))\n",
    "print(oneArray)"
   ]
  },
  {
   "cell_type": "markdown",
   "id": "35aee004",
   "metadata": {},
   "source": [
    "# 列表传入numpy的三种方式"
   ]
  },
  {
   "cell_type": "code",
   "execution_count": 3,
   "id": "914cd478",
   "metadata": {},
   "outputs": [
    {
     "name": "stdout",
     "output_type": "stream",
     "text": [
      "[1 2 3]\n",
      "<class 'numpy.ndarray'>\n"
     ]
    }
   ],
   "source": [
    "t1=np.array([1,2,3])\n",
    "print(t1)\n",
    "print(type(t1))"
   ]
  },
  {
   "cell_type": "code",
   "execution_count": 4,
   "id": "72dae5ae",
   "metadata": {},
   "outputs": [
    {
     "name": "stdout",
     "output_type": "stream",
     "text": [
      "[0 1 2 3 4 5 6 7 8 9]\n",
      "<class 'numpy.ndarray'>\n"
     ]
    }
   ],
   "source": [
    "t2=np.array(range(10))\n",
    "print(t2)\n",
    "print(type(t2))"
   ]
  },
  {
   "cell_type": "code",
   "execution_count": 5,
   "id": "462d84c9",
   "metadata": {},
   "outputs": [
    {
     "name": "stdout",
     "output_type": "stream",
     "text": [
      "[0 2 4 6 8]\n",
      "<class 'numpy.ndarray'>\n"
     ]
    }
   ],
   "source": [
    "t3=np.arange(0,10,2)\n",
    "print(t3)\n",
    "print(type(t3))"
   ]
  },
  {
   "cell_type": "markdown",
   "id": "9beb39db",
   "metadata": {},
   "source": [
    "# 创建二维数组"
   ]
  },
  {
   "cell_type": "code",
   "execution_count": 6,
   "id": "b3865ed1",
   "metadata": {},
   "outputs": [
    {
     "name": "stdout",
     "output_type": "stream",
     "text": [
      "[[1 2]\n",
      " [3 4]\n",
      " [5 6]]\n"
     ]
    }
   ],
   "source": [
    "list2=[[1,2],[3,4],[5,6]]\n",
    "twoArray=np.array(list2)\n",
    "print(twoArray)"
   ]
  },
  {
   "cell_type": "markdown",
   "id": "dd627515",
   "metadata": {},
   "source": [
    "# 数组转成list"
   ]
  },
  {
   "cell_type": "code",
   "execution_count": 7,
   "id": "bb01d464",
   "metadata": {},
   "outputs": [
    {
     "name": "stdout",
     "output_type": "stream",
     "text": [
      "[3, 6, 9, 12, 15]\n",
      "<class 'list'>\n"
     ]
    }
   ],
   "source": [
    "a=np.array([3,6,9,12,15])\n",
    "list_a=a.tolist()\n",
    "print(list_a)\n",
    "print(type(list_a))"
   ]
  },
  {
   "cell_type": "markdown",
   "id": "241a39cc",
   "metadata": {},
   "source": [
    "# 常用属性"
   ]
  },
  {
   "cell_type": "code",
   "execution_count": 8,
   "id": "fa2fb4a8",
   "metadata": {},
   "outputs": [
    {
     "name": "stdout",
     "output_type": "stream",
     "text": [
      "2\n",
      "(3, 2)\n",
      "6\n"
     ]
    }
   ],
   "source": [
    "list2=[[1,2],[3,4],[5,6]]\n",
    "twoArray=np.array(list2)\n",
    "#获取数组维度\n",
    "print(twoArray.ndim)\n",
    "#形状（行，列）\n",
    "print(twoArray.shape)\n",
    "#数组元素个数\n",
    "print(twoArray.size)"
   ]
  },
  {
   "cell_type": "markdown",
   "id": "b53d2a61",
   "metadata": {},
   "source": [
    "# 调整数组形状（行列尺寸）"
   ]
  },
  {
   "cell_type": "code",
   "execution_count": 12,
   "id": "2ebc62a7",
   "metadata": {},
   "outputs": [
    {
     "name": "stdout",
     "output_type": "stream",
     "text": [
      "[[4 6 4]\n",
      " [5 5 9]\n",
      " [7 3 2]\n",
      " [0 1 3]]\n",
      "[[4 6 4 5 5 9]\n",
      " [7 3 2 0 1 3]]\n"
     ]
    }
   ],
   "source": [
    "b=[[4,6,4,5],[5,9,7,3],[2,0,1,3]]\n",
    "b_1=np.array(b)\n",
    "b_2=b_1.reshape(4,3)\n",
    "print(b_2)\n",
    "b_1.shape=(2,6)\n",
    "print(b_1)"
   ]
  },
  {
   "cell_type": "markdown",
   "id": "729338f7",
   "metadata": {},
   "source": [
    "# 多维数组变一维数组\n"
   ]
  },
  {
   "cell_type": "code",
   "execution_count": 16,
   "id": "baca1a02",
   "metadata": {},
   "outputs": [
    {
     "name": "stdout",
     "output_type": "stream",
     "text": [
      "[4 5 2 6 9 0 4 7 1 5 3 3]\n",
      "[4 6 4 5 5 9 7 3 2 0 1 3]\n"
     ]
    }
   ],
   "source": [
    "b=np.array([[4,6,4,5],[5,9,7,3],[2,0,1,3]])\n",
    "b_3=b.reshape((12,),order='F')\n",
    "b_4=b.reshape((12,),order='C')\n",
    "#默认情况以C（行为主）顺序展开，F（列为主）展开\n",
    "print(b_3)\n",
    "print(b_4)"
   ]
  },
  {
   "cell_type": "markdown",
   "id": "caa66e1f",
   "metadata": {},
   "source": [
    "# numpy数据类型"
   ]
  },
  {
   "cell_type": "code",
   "execution_count": null,
   "id": "fb67dfe2",
   "metadata": {},
   "outputs": [],
   "source": []
  },
  {
   "cell_type": "markdown",
   "id": "21586678",
   "metadata": {},
   "source": [
    "# 数组索引和切片"
   ]
  },
  {
   "cell_type": "code",
   "execution_count": 17,
   "id": "0131d1a8",
   "metadata": {},
   "outputs": [
    {
     "name": "stdout",
     "output_type": "stream",
     "text": [
      "[2 4 6]\n",
      "2 [0 1 2 3 4 5 6 7 8 9]\n",
      "[2 3 4 5 6 7 8 9]\n"
     ]
    },
    {
     "data": {
      "text/plain": [
       "array([2, 3, 4, 5, 6])"
      ]
     },
     "execution_count": 17,
     "metadata": {},
     "output_type": "execute_result"
    }
   ],
   "source": [
    "import numpy as np\n",
    "a = np.arange(10)\n",
    "# 冒号分隔切片参数 start:stop:step 来进行切片操作\n",
    "print(a[2:7:2])# 从索引 2 开始到索引 7 停止，间隔为 2\n",
    "# 如果只放置一个参数，如 [2]，将返回与该索引相对应的单个元素\n",
    "print(a[2],a)\n",
    "# 如果为 [2:]，表示从该索引开始以后的所有项都将被提取\n",
    "print(a[2:])\n",
    "a[2:7]#左闭右开"
   ]
  },
  {
   "cell_type": "markdown",
   "id": "02e1366e",
   "metadata": {},
   "source": [
    "# 多维数组操作"
   ]
  },
  {
   "cell_type": "code",
   "execution_count": 20,
   "id": "652447a4",
   "metadata": {},
   "outputs": [
    {
     "name": "stdout",
     "output_type": "stream",
     "text": [
      "[[ 0  1  2  3  4  5]\n",
      " [ 6  7  8  9 10 11]\n",
      " [12 13 14 15 16 17]\n",
      " [18 19 20 21 22 23]]\n"
     ]
    }
   ],
   "source": [
    "import numpy as np\n",
    "a1=np.arange(24).reshape(4,6)\n",
    "print(a1)"
   ]
  },
  {
   "cell_type": "code",
   "execution_count": 22,
   "id": "f2c5659d",
   "metadata": {},
   "outputs": [
    {
     "name": "stdout",
     "output_type": "stream",
     "text": [
      "[ 6  7  8  9 10 11]\n"
     ]
    }
   ],
   "source": [
    "print(a1[1]) # 取一行(一行代表是一条数据，索引也是从0开始的)"
   ]
  },
  {
   "cell_type": "code",
   "execution_count": 23,
   "id": "f7f01261",
   "metadata": {},
   "outputs": [
    {
     "name": "stdout",
     "output_type": "stream",
     "text": [
      "[ 6  7  8  9 10 11]\n"
     ]
    }
   ],
   "source": [
    "print(a1[1,:]) # 取一行"
   ]
  },
  {
   "cell_type": "code",
   "execution_count": 25,
   "id": "a34953ff",
   "metadata": {},
   "outputs": [
    {
     "name": "stdout",
     "output_type": "stream",
     "text": [
      "[[ 6  7  8  9 10 11]\n",
      " [12 13 14 15 16 17]\n",
      " [18 19 20 21 22 23]]\n"
     ]
    }
   ],
   "source": [
    "print(a1[1:])# 取连续的多行"
   ]
  },
  {
   "cell_type": "code",
   "execution_count": 27,
   "id": "7387ce12",
   "metadata": {},
   "outputs": [
    {
     "name": "stdout",
     "output_type": "stream",
     "text": [
      "[[ 6  7  8  9 10 11]\n",
      " [12 13 14 15 16 17]]\n"
     ]
    }
   ],
   "source": [
    "print(a1[1:3,:])# 取连续的多行"
   ]
  },
  {
   "cell_type": "code",
   "execution_count": 28,
   "id": "afed1c74",
   "metadata": {},
   "outputs": [
    {
     "name": "stdout",
     "output_type": "stream",
     "text": [
      "[[ 0  1  2  3  4  5]\n",
      " [12 13 14 15 16 17]\n",
      " [18 19 20 21 22 23]]\n"
     ]
    }
   ],
   "source": [
    "print(a1[[0,2,3]])# 取不连续的多行"
   ]
  },
  {
   "cell_type": "code",
   "execution_count": 29,
   "id": "6736dbfc",
   "metadata": {},
   "outputs": [
    {
     "name": "stdout",
     "output_type": "stream",
     "text": [
      "[[ 0  1  2  3  4  5]\n",
      " [12 13 14 15 16 17]\n",
      " [18 19 20 21 22 23]]\n"
     ]
    }
   ],
   "source": [
    "print(a1[[0,2,3],:])# 取不连续的多行"
   ]
  },
  {
   "cell_type": "code",
   "execution_count": 30,
   "id": "63429060",
   "metadata": {},
   "outputs": [
    {
     "name": "stdout",
     "output_type": "stream",
     "text": [
      "[ 1  7 13 19]\n"
     ]
    }
   ],
   "source": [
    "print(a1[:,1])# 取一列"
   ]
  },
  {
   "cell_type": "code",
   "execution_count": 31,
   "id": "3d9f2236",
   "metadata": {},
   "outputs": [
    {
     "name": "stdout",
     "output_type": "stream",
     "text": [
      "[[ 1  2  3  4  5]\n",
      " [ 7  8  9 10 11]\n",
      " [13 14 15 16 17]\n",
      " [19 20 21 22 23]]\n"
     ]
    }
   ],
   "source": [
    "print(a1[:,1:])# 连续的多列"
   ]
  },
  {
   "cell_type": "code",
   "execution_count": 32,
   "id": "2936ba15",
   "metadata": {},
   "outputs": [
    {
     "name": "stdout",
     "output_type": "stream",
     "text": [
      "[[ 0  2  3]\n",
      " [ 6  8  9]\n",
      " [12 14 15]\n",
      " [18 20 21]]\n"
     ]
    }
   ],
   "source": [
    "print(a1[:,[0,2,3]])# 取不连续的多列"
   ]
  },
  {
   "cell_type": "code",
   "execution_count": 33,
   "id": "9b277d80",
   "metadata": {},
   "outputs": [
    {
     "name": "stdout",
     "output_type": "stream",
     "text": [
      "15\n"
     ]
    }
   ],
   "source": [
    "print(a1[2,3])# # 取某一个值,三行四列"
   ]
  },
  {
   "cell_type": "code",
   "execution_count": 34,
   "id": "937b3eb1",
   "metadata": {},
   "outputs": [
    {
     "name": "stdout",
     "output_type": "stream",
     "text": [
      "[0 7 9]\n"
     ]
    }
   ],
   "source": [
    "print(a1[[0,1,1],[0,1,3]])\n",
    "# 取多个不连续的值，[[行，行。。。],[列，列。。。]]"
   ]
  },
  {
   "cell_type": "markdown",
   "id": "2928d65e",
   "metadata": {},
   "source": [
    ":代表所有，逗号是间隔行和列"
   ]
  },
  {
   "cell_type": "markdown",
   "id": "4a1ddefb",
   "metadata": {},
   "source": [
    "# 数组中数值修改"
   ]
  },
  {
   "cell_type": "code",
   "execution_count": null,
   "id": "c235fe72",
   "metadata": {},
   "outputs": [],
   "source": []
  },
  {
   "cell_type": "markdown",
   "id": "c158f9e8",
   "metadata": {},
   "source": [
    "# 数组中的轴"
   ]
  },
  {
   "cell_type": "code",
   "execution_count": 5,
   "id": "c21e4b24",
   "metadata": {},
   "outputs": [
    {
     "name": "stdout",
     "output_type": "stream",
     "text": [
      "[5 7 9]\n",
      "[ 6 15]\n",
      "21\n"
     ]
    }
   ],
   "source": [
    "import numpy as np\n",
    "a = np.array([[1,2,3],[4,5,6]])\n",
    "print(np.sum(a,axis=0)) # [5 7 9]\n",
    "print(np.sum(a,axis = 1)) # [ 6 15]\n",
    "print(np.sum(a))# 计算所有的值的和"
   ]
  },
  {
   "cell_type": "markdown",
   "id": "5e605bc0",
   "metadata": {},
   "source": [
    "# 数组的计算"
   ]
  },
  {
   "cell_type": "code",
   "execution_count": 6,
   "id": "4eb7555c",
   "metadata": {},
   "outputs": [
    {
     "name": "stdout",
     "output_type": "stream",
     "text": [
      "[[ 0  1  2  3]\n",
      " [ 4  5  6  7]\n",
      " [ 8  9 10 11]\n",
      " [12 13 14 15]\n",
      " [16 17 18 19]\n",
      " [20 21 22 23]]\n"
     ]
    }
   ],
   "source": [
    "import numpy as np\n",
    "m=np.arange(24).reshape((6,4))\n",
    "print(m)"
   ]
  },
  {
   "cell_type": "code",
   "execution_count": 7,
   "id": "da1b74f2",
   "metadata": {},
   "outputs": [
    {
     "name": "stdout",
     "output_type": "stream",
     "text": [
      "[[ 2  3  4  5]\n",
      " [ 6  7  8  9]\n",
      " [10 11 12 13]\n",
      " [14 15 16 17]\n",
      " [18 19 20 21]\n",
      " [22 23 24 25]]\n"
     ]
    }
   ],
   "source": [
    "print(m+2)"
   ]
  },
  {
   "cell_type": "code",
   "execution_count": 8,
   "id": "ad37557c",
   "metadata": {},
   "outputs": [
    {
     "name": "stdout",
     "output_type": "stream",
     "text": [
      "[[ 0  2  4  6]\n",
      " [ 8 10 12 14]\n",
      " [16 18 20 22]\n",
      " [24 26 28 30]\n",
      " [32 34 36 38]\n",
      " [40 42 44 46]]\n"
     ]
    }
   ],
   "source": [
    "print(m*2)"
   ]
  },
  {
   "cell_type": "code",
   "execution_count": 9,
   "id": "89d5989d",
   "metadata": {},
   "outputs": [
    {
     "name": "stdout",
     "output_type": "stream",
     "text": [
      "[[ 0.   0.5  1.   1.5]\n",
      " [ 2.   2.5  3.   3.5]\n",
      " [ 4.   4.5  5.   5.5]\n",
      " [ 6.   6.5  7.   7.5]\n",
      " [ 8.   8.5  9.   9.5]\n",
      " [10.  10.5 11.  11.5]]\n"
     ]
    }
   ],
   "source": [
    "print(m/2)"
   ]
  },
  {
   "cell_type": "code",
   "execution_count": 10,
   "id": "ac1c022d",
   "metadata": {},
   "outputs": [
    {
     "name": "stdout",
     "output_type": "stream",
     "text": [
      "[[100 101 102 103]\n",
      " [104 105 106 107]\n",
      " [108 109 110 111]\n",
      " [112 113 114 115]\n",
      " [116 117 118 119]\n",
      " [120 121 122 123]]\n"
     ]
    }
   ],
   "source": [
    "n=np.arange(100,124).reshape((6,4))\n",
    "print(n)"
   ]
  },
  {
   "cell_type": "code",
   "execution_count": 11,
   "id": "17d55624",
   "metadata": {},
   "outputs": [
    {
     "name": "stdout",
     "output_type": "stream",
     "text": [
      "[[100 102 104 106]\n",
      " [108 110 112 114]\n",
      " [116 118 120 122]\n",
      " [124 126 128 130]\n",
      " [132 134 136 138]\n",
      " [140 142 144 146]]\n"
     ]
    }
   ],
   "source": [
    "print(m+n)"
   ]
  },
  {
   "cell_type": "code",
   "execution_count": 12,
   "id": "7bf6c156",
   "metadata": {},
   "outputs": [
    {
     "name": "stdout",
     "output_type": "stream",
     "text": [
      "[[   0  101  204  309]\n",
      " [ 416  525  636  749]\n",
      " [ 864  981 1100 1221]\n",
      " [1344 1469 1596 1725]\n",
      " [1856 1989 2124 2261]\n",
      " [2400 2541 2684 2829]]\n"
     ]
    }
   ],
   "source": [
    "print(m*n)"
   ]
  },
  {
   "cell_type": "code",
   "execution_count": 13,
   "id": "df8d6436",
   "metadata": {},
   "outputs": [
    {
     "name": "stdout",
     "output_type": "stream",
     "text": [
      "[0 1 2 3 4 5]\n"
     ]
    }
   ],
   "source": [
    "m_1=np.arange(0,6)\n",
    "print(m_1)"
   ]
  },
  {
   "cell_type": "code",
   "execution_count": 16,
   "id": "d6899bf4",
   "metadata": {},
   "outputs": [
    {
     "name": "stdout",
     "output_type": "stream",
     "text": [
      "[[ 0  1  2  3  4  5]\n",
      " [ 6  7  8  9 10 11]\n",
      " [12 13 14 15 16 17]\n",
      " [18 19 20 21 22 23]]\n",
      "[[ 0  0  0  0  0  0]\n",
      " [ 6  6  6  6  6  6]\n",
      " [12 12 12 12 12 12]\n",
      " [18 18 18 18 18 18]]\n"
     ]
    }
   ],
   "source": [
    "m_2=np.arange(24).reshape(4,6)\n",
    "print(m_2)\n",
    "print(m_2-m_1)\n",
    "#若列形状相同（会与每一个相同维度的数组的对应位相同操作）"
   ]
  },
  {
   "cell_type": "code",
   "execution_count": 17,
   "id": "38b0eede",
   "metadata": {},
   "outputs": [
    {
     "name": "stdout",
     "output_type": "stream",
     "text": [
      "[[0]\n",
      " [1]\n",
      " [2]\n",
      " [3]]\n",
      "[[ 0  1  2  3  4  5]\n",
      " [ 5  6  7  8  9 10]\n",
      " [10 11 12 13 14 15]\n",
      " [15 16 17 18 19 20]]\n"
     ]
    }
   ],
   "source": [
    "m_3=np.arange(4).reshape((4,1))\n",
    "print(m_3)\n",
    "print(m_2-m_3)\n",
    "#若行形状相同（会与每一个相同维度的数组的对应位相同操作）"
   ]
  },
  {
   "cell_type": "code",
   "execution_count": null,
   "id": "da8b0973",
   "metadata": {},
   "outputs": [],
   "source": []
  },
  {
   "cell_type": "markdown",
   "id": "dd464092",
   "metadata": {},
   "source": [
    "# numpy.append"
   ]
  },
  {
   "cell_type": "code",
   "execution_count": 18,
   "id": "1014f2d6",
   "metadata": {},
   "outputs": [
    {
     "name": "stdout",
     "output_type": "stream",
     "text": [
      "[[1 2 3]\n",
      " [4 5 6]]\n"
     ]
    }
   ],
   "source": [
    "q=np.arange(1,7).reshape((2,3))\n",
    "print(q)"
   ]
  },
  {
   "cell_type": "code",
   "execution_count": 20,
   "id": "6082fa28",
   "metadata": {},
   "outputs": [
    {
     "name": "stdout",
     "output_type": "stream",
     "text": [
      "[1 2 3 4 5 6 7 8 9]\n"
     ]
    }
   ],
   "source": [
    "print(np.append(q,[7,8,9]))\n",
    "#向数组添加元素"
   ]
  },
  {
   "cell_type": "code",
   "execution_count": 24,
   "id": "4580d735",
   "metadata": {},
   "outputs": [
    {
     "name": "stdout",
     "output_type": "stream",
     "text": [
      "[[1 2 3]\n",
      " [4 5 6]\n",
      " [7 8 9]]\n"
     ]
    }
   ],
   "source": [
    "print(np.append(q,[[7,8,9]],axis=0))\n",
    "#沿0轴"
   ]
  },
  {
   "cell_type": "code",
   "execution_count": 25,
   "id": "c39f9884",
   "metadata": {},
   "outputs": [
    {
     "name": "stdout",
     "output_type": "stream",
     "text": [
      "[[1 2 3 5 5 5]\n",
      " [4 5 6 7 8 9]]\n"
     ]
    }
   ],
   "source": [
    "print(np.append(q,[[5,5,5],[7,8,9]],axis=1))\n",
    "#沿1轴"
   ]
  },
  {
   "cell_type": "code",
   "execution_count": 26,
   "id": "8b78d43c",
   "metadata": {},
   "outputs": [
    {
     "name": "stdout",
     "output_type": "stream",
     "text": [
      "[[1 2]\n",
      " [3 4]\n",
      " [5 6]]\n"
     ]
    }
   ],
   "source": [
    "p=np.arange(1,7).reshape((3,2))\n",
    "print(p)"
   ]
  },
  {
   "cell_type": "code",
   "execution_count": 30,
   "id": "16319119",
   "metadata": {},
   "outputs": [
    {
     "name": "stdout",
     "output_type": "stream",
     "text": [
      "[ 1  2  3 11 12  4  5  6]\n"
     ]
    }
   ],
   "source": [
    "print(np.insert(p,3,(11,12)))"
   ]
  },
  {
   "cell_type": "code",
   "execution_count": 29,
   "id": "88d0c53e",
   "metadata": {},
   "outputs": [
    {
     "name": "stdout",
     "output_type": "stream",
     "text": [
      "[[ 1  2]\n",
      " [11 18]\n",
      " [ 3  4]\n",
      " [ 5  6]]\n"
     ]
    }
   ],
   "source": [
    "print(np.insert(p,1,[11,18],axis=0))"
   ]
  },
  {
   "cell_type": "code",
   "execution_count": 31,
   "id": "6e53dbb9",
   "metadata": {},
   "outputs": [
    {
     "name": "stdout",
     "output_type": "stream",
     "text": [
      "[[ 1 11  2]\n",
      " [ 3 11  4]\n",
      " [ 5 11  6]]\n"
     ]
    }
   ],
   "source": [
    "print(np.insert(p,1,11,axis=1))"
   ]
  },
  {
   "cell_type": "code",
   "execution_count": 32,
   "id": "9d6d5cb4",
   "metadata": {},
   "outputs": [
    {
     "name": "stdout",
     "output_type": "stream",
     "text": [
      "[[ 1 11 12 13  2]\n",
      " [ 3 11 12 13  4]\n",
      " [ 5 11 12 13  6]]\n"
     ]
    }
   ],
   "source": [
    "print(np.insert(p,1,[[11],[12],[13]],axis=1))"
   ]
  },
  {
   "cell_type": "code",
   "execution_count": 33,
   "id": "3609a73e",
   "metadata": {},
   "outputs": [
    {
     "name": "stdout",
     "output_type": "stream",
     "text": [
      "[[ 1 11  2]\n",
      " [ 3 12  4]\n",
      " [ 5 13  6]]\n"
     ]
    }
   ],
   "source": [
    "print(np.insert(p,1,[11,12,13],axis=1))"
   ]
  },
  {
   "cell_type": "markdown",
   "id": "8fed5098",
   "metadata": {},
   "source": [
    "# 删除"
   ]
  },
  {
   "cell_type": "code",
   "execution_count": 36,
   "id": "92924c65",
   "metadata": {},
   "outputs": [
    {
     "name": "stdout",
     "output_type": "stream",
     "text": [
      "[[ 0  1  2  3]\n",
      " [ 4  5  6  7]\n",
      " [ 8  9 10 11]]\n"
     ]
    }
   ],
   "source": [
    "r=np.arange(12).reshape(3,4)\n",
    "print(r)"
   ]
  },
  {
   "cell_type": "code",
   "execution_count": 37,
   "id": "9ece5d55",
   "metadata": {},
   "outputs": [
    {
     "name": "stdout",
     "output_type": "stream",
     "text": [
      "[ 0  1  2  3  4  6  7  8  9 10 11]\n"
     ]
    }
   ],
   "source": [
    "print(np.delete(r,5))"
   ]
  },
  {
   "cell_type": "code",
   "execution_count": 38,
   "id": "28ac82d3",
   "metadata": {},
   "outputs": [
    {
     "name": "stdout",
     "output_type": "stream",
     "text": [
      "[[ 0  2  3]\n",
      " [ 4  6  7]\n",
      " [ 8 10 11]]\n"
     ]
    }
   ],
   "source": [
    "print(np.delete(r,1,axis=1))"
   ]
  },
  {
   "cell_type": "code",
   "execution_count": 39,
   "id": "44f5134e",
   "metadata": {},
   "outputs": [
    {
     "name": "stdout",
     "output_type": "stream",
     "text": [
      "[[ 0  1  2  3]\n",
      " [ 8  9 10 11]]\n"
     ]
    }
   ],
   "source": [
    "print(np.delete(r,1,axis=0))"
   ]
  },
  {
   "cell_type": "code",
   "execution_count": null,
   "id": "b578247c",
   "metadata": {},
   "outputs": [],
   "source": []
  },
  {
   "cell_type": "code",
   "execution_count": null,
   "id": "4d32c8cd",
   "metadata": {},
   "outputs": [],
   "source": []
  }
 ],
 "metadata": {
  "kernelspec": {
   "display_name": "Python 3 (ipykernel)",
   "language": "python",
   "name": "python3"
  },
  "language_info": {
   "codemirror_mode": {
    "name": "ipython",
    "version": 3
   },
   "file_extension": ".py",
   "mimetype": "text/x-python",
   "name": "python",
   "nbconvert_exporter": "python",
   "pygments_lexer": "ipython3",
   "version": "3.9.7"
  }
 },
 "nbformat": 4,
 "nbformat_minor": 5
}
