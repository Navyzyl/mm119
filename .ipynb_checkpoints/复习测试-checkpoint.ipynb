{
 "cells": [
  {
   "cell_type": "markdown",
   "id": "7c84a2ef",
   "metadata": {},
   "source": [
    "# 九九乘法表"
   ]
  },
  {
   "cell_type": "code",
   "execution_count": 3,
   "id": "2de3a69d",
   "metadata": {},
   "outputs": [
    {
     "name": "stdout",
     "output_type": "stream",
     "text": [
      "1*1=1  \n",
      "2*1=2  2*2=4  \n",
      "3*1=3  3*2=6  3*3=9  \n",
      "4*1=4  4*2=8  4*3=12  4*4=16  \n",
      "5*1=5  5*2=10  5*3=15  5*4=20  5*5=25  \n",
      "6*1=6  6*2=12  6*3=18  6*4=24  6*5=30  6*6=36  \n",
      "7*1=7  7*2=14  7*3=21  7*4=28  7*5=35  7*6=42  7*7=49  \n",
      "8*1=8  8*2=16  8*3=24  8*4=32  8*5=40  8*6=48  8*7=56  8*8=64  \n",
      "9*1=9  9*2=18  9*3=27  9*4=36  9*5=45  9*6=54  9*7=63  9*8=72  9*9=81  \n"
     ]
    }
   ],
   "source": [
    "for i in range(1,10):\n",
    "    for j in range(1,i+1):\n",
    "        print(f'{i}*{j}={i*j}  ',end='')\n",
    "    print('')"
   ]
  },
  {
   "cell_type": "markdown",
   "id": "dea17255",
   "metadata": {},
   "source": [
    "# 鸡兔同笼"
   ]
  },
  {
   "cell_type": "code",
   "execution_count": 5,
   "id": "c160932f",
   "metadata": {},
   "outputs": [
    {
     "name": "stdout",
     "output_type": "stream",
     "text": [
      "鸡有1700,兔有1900\n"
     ]
    }
   ],
   "source": [
    "ji=0\n",
    "tu=0\n",
    "while True:\n",
    "    for i in range(1,3600):\n",
    "        j=3600-i\n",
    "        if 2*i+4*j==11000:\n",
    "            ji=i\n",
    "            tu=j\n",
    "    break\n",
    "print(f'鸡有{ji},兔有{tu}')\n",
    "            "
   ]
  },
  {
   "cell_type": "markdown",
   "id": "42e0eb4e",
   "metadata": {},
   "source": [
    "# 机票预定"
   ]
  },
  {
   "cell_type": "code",
   "execution_count": null,
   "id": "ef81a75c",
   "metadata": {},
   "outputs": [],
   "source": [
    "while True:\n",
    "    price=5000\n",
    "    month = input('请输入您出行的月份：')\n",
    "    if month.isdigit()==True:\n",
    "        month=int(month)\n",
    "        if 1<=month<=12:\n",
    "            if 4<=month<=10:\n",
    "                choice=input('请问您选择头等舱还是经济舱？头等舱1，经济舱2')\n",
    "                if choice=='1':\n",
    "                    price=price*0.9\n",
    "                    print(f'您的机票价格为{price}')\n",
    "                elif choice=='2':\n",
    "                    price=price*0.6\n",
    "                    print(f'您的机票价格为{price}')\n",
    "                else:\n",
    "                    print('请输入正确的操作数')\n",
    "            else:\n",
    "                choice=input('请问您选择头等舱还是经济舱？头等舱1，经济舱2')\n",
    "                if choice=='1':\n",
    "                    price=price*0.5\n",
    "                    print(f'您的机票价格为{price}')\n",
    "                elif choice=='2':\n",
    "                    price=price*0.4\n",
    "                    print(f'您的机票价格为{price}')\n",
    "                else:\n",
    "                    print('请输入正确的操作数')\n",
    "        else:\n",
    "            print('请输入正确数字范围的月份')\n",
    "    else:\n",
    "        print('请输入月份数')       "
   ]
  },
  {
   "cell_type": "markdown",
   "id": "cf9948de",
   "metadata": {},
   "source": [
    "# 星期匹配"
   ]
  },
  {
   "cell_type": "code",
   "execution_count": null,
   "id": "67ce1c12",
   "metadata": {},
   "outputs": [],
   "source": [
    "wek=['MON','TUE','WED','THU','FRI','SAT','SUN']\n",
    "while True:\n",
    "    choice=int(input('请输入数字1-7（输入0结束）：'))\n",
    "    if choice==0:\n",
    "        break\n",
    "    elif 1<=choice<=7:\n",
    "        print(f'{wek[choice-1]}')\n",
    "    else:\n",
    "        print('请输入正确的数字')\n",
    "    "
   ]
  },
  {
   "cell_type": "markdown",
   "id": "996d22e9",
   "metadata": {},
   "source": [
    "# 乾坤大挪移"
   ]
  },
  {
   "cell_type": "code",
   "execution_count": null,
   "id": "6d33cf57",
   "metadata": {},
   "outputs": [],
   "source": [
    "num=input('请输入一个整数')\n",
    "print(int(num[::-1]))\n",
    "            \n",
    "        "
   ]
  },
  {
   "cell_type": "code",
   "execution_count": null,
   "id": "bfa18279",
   "metadata": {},
   "outputs": [],
   "source": [
    "while True:\n",
    "    shuchu=[]\n",
    "    num=input('请输入一个整数:')\n",
    "    if num.isdigit()==True:\n",
    "        l=len(num)\n",
    "        for i in range(0,l):\n",
    "            if num[l-i-1]!='0':\n",
    "                a=l-i-1\n",
    "                break\n",
    "            i=i+1\n",
    "        for j in range(0,a+1):\n",
    "            shuchu.append(num[a-j])\n",
    "            j=j+1\n",
    "        print(f'{shuchu}')\n",
    "    else:\n",
    "        print('请输入数字')"
   ]
  },
  {
   "cell_type": "code",
   "execution_count": null,
   "id": "95793146",
   "metadata": {},
   "outputs": [],
   "source": []
  }
 ],
 "metadata": {
  "kernelspec": {
   "display_name": "Python 3 (ipykernel)",
   "language": "python",
   "name": "python3"
  },
  "language_info": {
   "codemirror_mode": {
    "name": "ipython",
    "version": 3
   },
   "file_extension": ".py",
   "mimetype": "text/x-python",
   "name": "python",
   "nbconvert_exporter": "python",
   "pygments_lexer": "ipython3",
   "version": "3.9.7"
  }
 },
 "nbformat": 4,
 "nbformat_minor": 5
}
