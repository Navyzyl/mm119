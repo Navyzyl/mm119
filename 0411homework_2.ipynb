{
 "cells": [
  {
   "cell_type": "code",
   "execution_count": 1,
   "id": "57a9df6a",
   "metadata": {},
   "outputs": [],
   "source": [
    "a='''\n",
    "var observe24h_data = { \"od\" : {\"od0\" : \"202109291100\", \" od1\":\"青岛\",\"od2\" :[{\"od21\" : \"11\", \" od22\" : \"23\", \"od23\" : \"323\", \"od24\" :\"西北风\" ,\"od25\" : \"3\", \"od26\" : \"0\", \"od27\" : \"71\",\"od28\" :\"\"},{\"od21 \" : \"10\", \"od22\" : \"22\", \"od23\" : \"332\",\"od24\" : \"西北风\", \"od25\" : \"3\", \"od26\" : \"0.1 \", \"od27\" : \"75\", \"od28\" : \"33\"}]}};\n",
    "'''"
   ]
  },
  {
   "cell_type": "code",
   "execution_count": 2,
   "id": "4e17aec1",
   "metadata": {},
   "outputs": [],
   "source": [
    "import json"
   ]
  },
  {
   "cell_type": "code",
   "execution_count": 3,
   "id": "9e3d81a0",
   "metadata": {},
   "outputs": [
    {
     "data": {
      "text/plain": [
       "'{ \"od\" : {\"od0\" : \"202109291100\", \" od1\":\"青岛\",\"od2\" :[{\"od21\" : \"11\", \" od22\" : \"23\", \"od23\" : \"323\", \"od24\" :\"西北风\" ,\"od25\" : \"3\", \"od26\" : \"0\", \"od27\" : \"71\",\"od28\" :\"\"},{\"od21 \" : \"10\", \"od22\" : \"22\", \"od23\" : \"332\",\"od24\" : \"西北风\", \"od25\" : \"3\", \"od26\" : \"0.1 \", \"od27\" : \"75\", \"od28\" : \"33\"}]}}'"
      ]
     },
     "execution_count": 3,
     "metadata": {},
     "output_type": "execute_result"
    }
   ],
   "source": [
    "a1=a.split('=')[1].strip()[:-1]\n",
    "a1"
   ]
  },
  {
   "cell_type": "code",
   "execution_count": 4,
   "id": "bed360f5",
   "metadata": {},
   "outputs": [
    {
     "data": {
      "text/plain": [
       "{'od': {'od0': '202109291100',\n",
       "  ' od1': '青岛',\n",
       "  'od2': [{'od21': '11',\n",
       "    ' od22': '23',\n",
       "    'od23': '323',\n",
       "    'od24': '西北风',\n",
       "    'od25': '3',\n",
       "    'od26': '0',\n",
       "    'od27': '71',\n",
       "    'od28': ''},\n",
       "   {'od21 ': '10',\n",
       "    'od22': '22',\n",
       "    'od23': '332',\n",
       "    'od24': '西北风',\n",
       "    'od25': '3',\n",
       "    'od26': '0.1 ',\n",
       "    'od27': '75',\n",
       "    'od28': '33'}]}}"
      ]
     },
     "execution_count": 4,
     "metadata": {},
     "output_type": "execute_result"
    }
   ],
   "source": [
    "data=json.loads(a1)\n",
    "data"
   ]
  },
  {
   "cell_type": "code",
   "execution_count": 5,
   "id": "027e0359",
   "metadata": {},
   "outputs": [
    {
     "data": {
      "text/plain": [
       "'0'"
      ]
     },
     "execution_count": 5,
     "metadata": {},
     "output_type": "execute_result"
    }
   ],
   "source": [
    "data.get('od').get('od2')[0].get('od26')"
   ]
  },
  {
   "cell_type": "code",
   "execution_count": null,
   "id": "68ac7801",
   "metadata": {},
   "outputs": [],
   "source": []
  }
 ],
 "metadata": {
  "kernelspec": {
   "display_name": "Python 3 (ipykernel)",
   "language": "python",
   "name": "python3"
  },
  "language_info": {
   "codemirror_mode": {
    "name": "ipython",
    "version": 3
   },
   "file_extension": ".py",
   "mimetype": "text/x-python",
   "name": "python",
   "nbconvert_exporter": "python",
   "pygments_lexer": "ipython3",
   "version": "3.9.7"
  }
 },
 "nbformat": 4,
 "nbformat_minor": 5
}
